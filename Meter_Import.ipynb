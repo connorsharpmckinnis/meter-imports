{
 "cells": [
  {
   "cell_type": "markdown",
   "id": "8b1e0bc2",
   "metadata": {},
   "source": [
    "# Meter Inventory Transformation for Import"
   ]
  },
  {
   "cell_type": "markdown",
   "id": "7d281f35",
   "metadata": {},
   "source": [
    "### This notebook is a self-contained set of code and instructions that will enable you to convert individual files or batches of files from the vendor-provided format to the Milsoft-import format with minimal effort"
   ]
  },
  {
   "cell_type": "markdown",
   "id": "c7ee96f4",
   "metadata": {},
   "source": [
    "## Select Files"
   ]
  },
  {
   "cell_type": "code",
   "execution_count": null,
   "id": "4dfa5a11",
   "metadata": {},
   "outputs": [
    {
     "data": {
      "application/vnd.jupyter.widget-view+json": {
       "model_id": "29cbe32c3711457bb4a77459004b89b4",
       "version_major": 2,
       "version_minor": 0
      },
      "text/plain": [
       "FileUpload(value=(), accept='.xlsx', description='Upload Excel files', multiple=True)"
      ]
     },
     "metadata": {},
     "output_type": "display_data"
    },
    {
     "data": {
      "application/vnd.jupyter.widget-view+json": {
       "model_id": "e5b3e50b101743c3862fc78ede93efe0",
       "version_major": 2,
       "version_minor": 0
      },
      "text/plain": [
       "Button(button_style='success', description='Transform Files', icon='cogs', style=ButtonStyle())"
      ]
     },
     "metadata": {},
     "output_type": "display_data"
    },
    {
     "data": {
      "application/vnd.jupyter.widget-view+json": {
       "model_id": "5f0c7f3e7c1246f2826be4e3eefddbba",
       "version_major": 2,
       "version_minor": 0
      },
      "text/plain": [
       "Button(button_style='info', description='Download All CSVs as ZIP', icon='download', style=ButtonStyle())"
      ]
     },
     "metadata": {},
     "output_type": "display_data"
    },
    {
     "data": {
      "application/vnd.jupyter.widget-view+json": {
       "model_id": "6cddfe72eb2442fd851b38f42050a200",
       "version_major": 2,
       "version_minor": 0
      },
      "text/plain": [
       "Output()"
      ]
     },
     "metadata": {},
     "output_type": "display_data"
    }
   ],
   "source": [
    "import os\n",
    "import pandas as pd\n",
    "import ipywidgets as widgets\n",
    "from io import BytesIO\n",
    "from IPython.display import display\n",
    "import zipfile\n",
    "import shutil\n",
    "import base64\n",
    "import warnings\n",
    "warnings.simplefilter(action='ignore', category=FutureWarning)\n",
    "\n",
    "\n",
    "# Folder to save transformed output\n",
    "output_folder = \"voila_output\"\n",
    "os.makedirs(output_folder, exist_ok=True)\n",
    "\n",
    "SIZE_TO_CODE = {\n",
    "    '3\"': \"300\",\n",
    "    '5/8\"': \"058\",\n",
    "    '1\"': \"100\",\n",
    "    '1-1/2\"': \"150\",\n",
    "    '2\"': \"200\",\n",
    "    '4\"': \"400\",\n",
    "    '6\"': \"600\"\n",
    "}\n",
    "\n",
    "output_folder = \"test_out\"\n",
    "os.makedirs(output_folder, exist_ok=True)\n",
    "\n",
    "file_uploader = widgets.FileUpload(\n",
    "    accept = '.xlsx',\n",
    "    multiple = True,\n",
    "    description = \"Upload Excel files\"\n",
    ")\n",
    "\n",
    "\n",
    "# Button to trigger processing\n",
    "process_button = widgets.Button(\n",
    "    description=\"Transform Files\",\n",
    "    button_style='success',\n",
    "    icon='cogs'\n",
    ")\n",
    "\n",
    "download_button = widgets.Button(\n",
    "    description=\"Download All CSVs as ZIP\",\n",
    "    button_style='info',\n",
    "    icon='download'\n",
    ")\n",
    "\n",
    "\n",
    "\n",
    "# Output widget for logs\n",
    "log_output = widgets.Output()\n",
    "\n",
    "display(file_uploader, process_button, download_button, log_output)\n",
    "\n",
    "# This is the HTML widget you'll update after generating the file\n",
    "download_link_widget = widgets.HTML(value=\"\")\n",
    "display(download_link_widget)\n",
    "\n",
    "def edit_download_html(htmlWidget, filename, title=\"Click to download: \"):\n",
    "    htmlWidget.value = \"<i class=\\\"fa fa-spinner fa-spin fa-2x fa-fw\\\"></i><span class=\\\"sr-only\\\">Loading...</span>\"\n",
    "    with open(filename, \"rb\") as f:\n",
    "        data = f.read()\n",
    "    b64 = base64.b64encode(data).decode()\n",
    "    html = f'<a download=\"{filename}\" href=\"data:application/zip;base64,{b64}\" target=\"_blank\">{title}{filename}</a>'\n",
    "    htmlWidget.value = html\n"
   ]
  },
  {
   "cell_type": "code",
   "execution_count": null,
   "id": "50f3ad8e",
   "metadata": {},
   "outputs": [],
   "source": [
    "def map_meter_size(size_str):\n",
    "    if pd.isna(size_str):\n",
    "        return \"\"\n",
    "    for key, val in SIZE_TO_CODE.items():\n",
    "        if key in size_str:\n",
    "            return val\n",
    "    return \"\"\n",
    "\n",
    "def transform_excel_to_csv(df: pd.DataFrame, output_path: str):\n",
    "\n",
    "    # Create transformed DataFrame\n",
    "    output = pd.DataFrame()\n",
    "    output[\"MISER\"] = df[\"Meter SN\"].fillna(df[\"Register SN\"].astype(str))\n",
    "    output[\"MISERV\"] = 3\n",
    "    output[\"MITSTDT\"] = df[\"Meter Test Date\"].fillna(df[\"Ship Date\"])\n",
    "    output[\"MIMTYPE\"] = \"Sensus\"\n",
    "    output[\"MIPDTE\"] = \"01/01/0001\"\n",
    "    output[\"MIMULT\"] = 1\n",
    "    output[\"MIKIND\"] = \"W\"\n",
    "    output[\"MIDIAL\"] = 9\n",
    "    output[\"MICDTE\"] = \"01/01/0001\"\n",
    "    output[\"MIMTRS\"] = \"IPK\"\n",
    "    output[\"MIHANDHELD\"] = \"N\"\n",
    "    output[\"MIOPEN2\"] = df[\"Meter Size\"].apply(map_meter_size)\n",
    "\n",
    "    # Fill in missing required columns with blanks\n",
    "    TARGET_COLUMNS = [\n",
    "        'MISER', 'MISERV', 'MITSTDT', 'MITSTR', 'MIASFKWH', 'MIASLKWH', 'MIASFFL', 'MIASFLL',\n",
    "        'MIASLLL', 'MIASLFL', 'MIWHY', 'MIMOD#', 'MIMTYPE', 'MIVOU', 'MIPDTE', 'MIPCST',\n",
    "        'MIMULT', 'MIMNO', 'MIMFG', 'MITYPE', 'MIKIND', 'MIPHSE', 'MIVOLT', 'MIAMPS',\n",
    "        'MIWIRE', 'MIRACTION', 'MIDIAL', 'MIFORM', 'MIRR', 'MICLAS', 'MIPF', 'MIOSER',\n",
    "        'MIOREAD', 'MIOKWRD', 'MICDTE', 'MIWHSE', 'MIMCT', 'MIMTRS', 'MIOPEN2', 'MIOPEN3',\n",
    "        'MIHANDHELD'\n",
    "    ]\n",
    "\n",
    "    for col in TARGET_COLUMNS:\n",
    "        if col not in output.columns:\n",
    "            output[col] = \"\"\n",
    "\n",
    "    # Reorder the columns to match the required format\n",
    "    output = output[TARGET_COLUMNS]\n",
    "\n",
    "    # Save to CSV\n",
    "    output.to_csv(output_path, index=False, encoding=\"utf-8\")\n",
    "    print(f\"✅ Output saved to: {output_path}\")\n",
    "    \n",
    "    \n",
    "def create_zip_of_outputs(folder_path, zip_path):\n",
    "    with zipfile.ZipFile(zip_path, 'w', zipfile.ZIP_DEFLATED) as zipf:\n",
    "        for root, _, files in os.walk(folder_path):\n",
    "            for file in files:\n",
    "                file_path = os.path.join(root, file)\n",
    "                arcname = os.path.relpath(file_path, folder_path)\n",
    "                zipf.write(file_path, arcname)"
   ]
  },
  {
   "cell_type": "code",
   "execution_count": null,
   "id": "6bbc336d",
   "metadata": {},
   "outputs": [
    {
     "data": {
      "text/plain": [
       "'\\nfor index, file_info in enumerate(file_uploader.value):\\n    filename = file_info[\\'name\\']\\n    if not filename.endswith(\".xlsx\"):\\n        print(f\"❌ Skipping non-Excel file: {filename}\")\\n        continue\\n\\n    print(f\"🔄 Processing: {filename}\")\\n    file_bytes = BytesIO(file_info[\\'content\\'])\\n\\n    try:\\n        df = pd.read_excel(file_bytes)\\n        output_filename = os.path.splitext(filename)[0] + \"_transformed\"\\n        output_path = os.path.join(output_folder, output_filename + \".csv\")\\n        transform_excel_to_csv(df, output_path)\\n    except Exception as e:\\n        print(f\"❌ Failed to process {filename}: {e}\")'"
      ]
     },
     "execution_count": 54,
     "metadata": {},
     "output_type": "execute_result"
    }
   ],
   "source": [
    "def on_process_clicked(b):\n",
    "    shutil.rmtree(output_folder)\n",
    "    os.makedirs(output_folder)\n",
    "    log_output.clear_output()\n",
    "    with log_output:\n",
    "        if not file_uploader.value:\n",
    "            print(\"⚠️ Please upload at least one file before processing.\")\n",
    "            return\n",
    "\n",
    "        for file_info in file_uploader.value:\n",
    "            filename = file_info['name']\n",
    "            if not filename.endswith(\".xlsx\"):\n",
    "                print(f\"❌ Skipping non-Excel file: {filename}\")\n",
    "                continue\n",
    "            \n",
    "            print(f\"🔄 Processing: {filename}\")\n",
    "            file_bytes = BytesIO(file_info['content'])\n",
    "\n",
    "            try:\n",
    "                df = pd.read_excel(file_bytes)\n",
    "                output_filename = os.path.splitext(filename)[0] + \"_transformed.csv\"\n",
    "                output_path = os.path.join(output_folder, output_filename)\n",
    "                transform_excel_to_csv(df, output_path)\n",
    "                print(f\"✅ Saved: {output_path}\")\n",
    "            except Exception as e:\n",
    "                print(f\"❌ Error processing {filename}: {e}\")\n",
    "                \n",
    "def on_download_clicked(b):\n",
    "    log_output.clear_output()\n",
    "    with log_output:\n",
    "        zip_path = \"transformed_files.zip\"\n",
    "        create_zip_of_outputs(output_folder, zip_path)\n",
    "        print(\"📦 ZIP file created.\")\n",
    "        edit_download_html(download_link_widget, zip_path, title=\"👉 Click to download: \")\n",
    "\n",
    "download_button.on_click(on_download_clicked)\n",
    "\n",
    "process_button.on_click(on_process_clicked)"
   ]
  }
 ],
 "metadata": {
  "kernelspec": {
   "display_name": "meter-imports (3.13.5)",
   "language": "python",
   "name": "python3"
  },
  "language_info": {
   "codemirror_mode": {
    "name": "ipython",
    "version": 3
   },
   "file_extension": ".py",
   "mimetype": "text/x-python",
   "name": "python",
   "nbconvert_exporter": "python",
   "pygments_lexer": "ipython3",
   "version": "3.13.5"
  }
 },
 "nbformat": 4,
 "nbformat_minor": 5
}

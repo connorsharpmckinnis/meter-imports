{
 "cells": [
  {
   "cell_type": "markdown",
   "id": "8b1e0bc2",
   "metadata": {},
   "source": [
    "# Meter Inventory Transformation for Import"
   ]
  },
  {
   "cell_type": "markdown",
   "id": "7d281f35",
   "metadata": {},
   "source": [
    "### This notebook is a self-contained set of code and instructions that will enable you to convert individual files or batches of files from the vendor-provided format to the Milsoft-import format with minimal effort"
   ]
  },
  {
   "cell_type": "markdown",
   "id": "c7ee96f4",
   "metadata": {},
   "source": [
    "## 0. Import packages\n",
    "A few Python packages will be needed. Click the play button to import them for your session."
   ]
  },
  {
   "cell_type": "code",
   "execution_count": 7,
   "id": "9e618afb",
   "metadata": {},
   "outputs": [],
   "source": [
    "import os\n",
    "import pandas as pd"
   ]
  },
  {
   "cell_type": "markdown",
   "id": "15d8b24a",
   "metadata": {},
   "source": [
    "## 1. Set the target folder or file\n",
    "If you only want to convert one file, copy its filepath into the 'target_file' variable. If you want to convert all the .xlsx files in a folder, copy the folder path to the 'target_folder' variable. *NOTE* You MUST None-ify the variable you do NOT wish to use. Simply replace the undesired variable value with 'None' \n",
    "\n",
    "'output_folder' will be used as the destination for your converted file(s)"
   ]
  },
  {
   "cell_type": "code",
   "execution_count": 18,
   "id": "7921c333",
   "metadata": {},
   "outputs": [],
   "source": [
    "target_folder = \"test_in\"\n",
    "target_file = None\n",
    "\n",
    "output_folder = \"test_out\"\n",
    "\n",
    "SIZE_TO_CODE = {\n",
    "    '3\"': \"300\",\n",
    "    '5/8\"': \"058\",\n",
    "    '1\"': \"100\",\n",
    "    '1-1/2\"': \"150\",\n",
    "    '2\"': \"200\",\n",
    "    '4\"': \"400\",\n",
    "    '6\"': \"600\"\n",
    "}"
   ]
  },
  {
   "cell_type": "markdown",
   "id": "1cd92136",
   "metadata": {},
   "source": [
    "## 2. Define Functions\n",
    "You shouldn't mess with these unless you're familiar with Python and Pandas. Reach out to Connor McKinnis if changes are needed or if you suspect a function in here is misbehaving. "
   ]
  },
  {
   "cell_type": "code",
   "execution_count": 16,
   "id": "50f3ad8e",
   "metadata": {},
   "outputs": [],
   "source": [
    "def map_meter_size(size_str):\n",
    "    if pd.isna(size_str):\n",
    "        return \"\"\n",
    "    for key, val in SIZE_TO_CODE.items():\n",
    "        if key in size_str:\n",
    "            return val\n",
    "    return \"\"\n",
    "\n",
    "def transform_excel_to_csv(input_path: str, output_path: str):\n",
    "    # Load Excel data\n",
    "    df = pd.read_excel(input_path)\n",
    "\n",
    "    # Create transformed DataFrame\n",
    "    output = pd.DataFrame()\n",
    "    output[\"MISER\"] = df[\"Meter SN\"].fillna(df[\"Register SN\"].astype(str))\n",
    "    output[\"MISERV\"] = 3\n",
    "    output[\"MITSTDT\"] = df[\"Meter Test Date\"].fillna(df[\"Ship Date\"])\n",
    "    output[\"MIMTYPE\"] = \"Sensus\"\n",
    "    output[\"MIPDTE\"] = \"01/01/0001\"\n",
    "    output[\"MIMULT\"] = 1\n",
    "    output[\"MIKIND\"] = \"W\"\n",
    "    output[\"MIDIAL\"] = 9\n",
    "    output[\"MICDTE\"] = \"01/01/0001\"\n",
    "    output[\"MIMTRS\"] = \"IPK\"\n",
    "    output[\"MIHANDHELD\"] = \"N\"\n",
    "    output[\"MIOPEN2\"] = df[\"Meter Size\"].apply(map_meter_size)\n",
    "\n",
    "    # Fill in missing required columns with blanks\n",
    "    TARGET_COLUMNS = [\n",
    "        'MISER', 'MISERV', 'MITSTDT', 'MITSTR', 'MIASFKWH', 'MIASLKWH', 'MIASFFL', 'MIASFLL',\n",
    "        'MIASLLL', 'MIASLFL', 'MIWHY', 'MIMOD#', 'MIMTYPE', 'MIVOU', 'MIPDTE', 'MIPCST',\n",
    "        'MIMULT', 'MIMNO', 'MIMFG', 'MITYPE', 'MIKIND', 'MIPHSE', 'MIVOLT', 'MIAMPS',\n",
    "        'MIWIRE', 'MIRACTION', 'MIDIAL', 'MIFORM', 'MIRR', 'MICLAS', 'MIPF', 'MIOSER',\n",
    "        'MIOREAD', 'MIOKWRD', 'MICDTE', 'MIWHSE', 'MIMCT', 'MIMTRS', 'MIOPEN2', 'MIOPEN3',\n",
    "        'MIHANDHELD'\n",
    "    ]\n",
    "\n",
    "    for col in TARGET_COLUMNS:\n",
    "        if col not in output.columns:\n",
    "            output[col] = \"\"\n",
    "\n",
    "    # Reorder the columns to match the required format\n",
    "    output = output[TARGET_COLUMNS]\n",
    "\n",
    "    # Save to CSV\n",
    "    output.to_csv(output_path, index=False, encoding=\"utf-8\")\n",
    "    print(f\"✅ Output saved to: {output_path}\")\n",
    "    \n",
    "    \n",
    "def process_file(file_path: str, output_folder: str):\n",
    "    file = file_path if file_path.endswith('.xlsx') else None\n",
    "    if file: \n",
    "        output_base = os.path.splitext(os.path.basename(file))[0]\n",
    "        output_path = f\"{output_folder}/{output_base}_transformed.csv\"\n",
    "        transform_excel_to_csv(file_path, output_path)\n",
    "    else: \n",
    "        print(\"❌ No Excel file found. It must be a '.xlsx' file.\")\n",
    "        \n",
    "def batch_process_folder(folder_path: str, output_folder:str):\n",
    "    files = [f for f in os.listdir(folder_path) if f.endswith('.xlsx')]\n",
    "    if not files: \n",
    "        print(\"❌ No Excel files found in the specified folder.\")\n",
    "        return\n",
    "    \n",
    "    for file in files: \n",
    "        input_path = os.path.join(folder_path, file)\n",
    "        output_base = os.path.splitext(os.path.basename(file))[0]\n",
    "        output_path = f\"{output_folder}/{output_base}_transformed.csv\"\n",
    "        transform_excel_to_csv(input_path, output_path)"
   ]
  },
  {
   "cell_type": "markdown",
   "id": "a8ccf455",
   "metadata": {},
   "source": [
    "## 3. Run\n",
    "Use this to run your script."
   ]
  },
  {
   "cell_type": "code",
   "execution_count": 19,
   "id": "6bbc336d",
   "metadata": {},
   "outputs": [
    {
     "name": "stdout",
     "output_type": "stream",
     "text": [
      "✅ Output saved to: test_out/2025-00000399_transformed.csv\n",
      "✅ Output saved to: test_out/2025-00000594_transformed.csv\n",
      "✅ Output saved to: test_out/20251095_transformed.csv\n",
      "✅ Output saved to: test_out/20251106_transformed.csv\n",
      "✅ Output saved to: test_out/20251189_transformed.csv\n",
      "✅ Output saved to: test_out/20251365_transformed.csv\n"
     ]
    },
    {
     "name": "stderr",
     "output_type": "stream",
     "text": [
      "C:\\Users\\LocalAdmin\\AppData\\Local\\Temp\\ipykernel_19192\\2127259370.py:17: FutureWarning: Downcasting object dtype arrays on .fillna, .ffill, .bfill is deprecated and will change in a future version. Call result.infer_objects(copy=False) instead. To opt-in to the future behavior, set `pd.set_option('future.no_silent_downcasting', True)`\n",
      "  output[\"MITSTDT\"] = df[\"Meter Test Date\"].fillna(df[\"Ship Date\"])\n"
     ]
    }
   ],
   "source": [
    "if target_folder:\n",
    "    batch_process_folder(target_folder, output_folder)\n",
    "elif target_file:\n",
    "    process_file(target_file, output_folder)\n",
    "else: \n",
    "    print(\"Failed: You must populate a target_file OR target_folder in Step 1 AND replace the unused variable with 'None'\")"
   ]
  }
 ],
 "metadata": {
  "kernelspec": {
   "display_name": "meter-imports (3.13.5)",
   "language": "python",
   "name": "python3"
  },
  "language_info": {
   "codemirror_mode": {
    "name": "ipython",
    "version": 3
   },
   "file_extension": ".py",
   "mimetype": "text/x-python",
   "name": "python",
   "nbconvert_exporter": "python",
   "pygments_lexer": "ipython3",
   "version": "3.13.5"
  }
 },
 "nbformat": 4,
 "nbformat_minor": 5
}
